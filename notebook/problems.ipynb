{
 "cells": [
  {
   "cell_type": "markdown",
   "id": "a41f3622",
   "metadata": {},
   "source": [
    "# Probability exercises"
   ]
  },
  {
   "cell_type": "markdown",
   "id": "a6bdbd89",
   "metadata": {},
   "source": [
    "## Exercise 1 \n",
    "\n",
    "Two dices are thrown once and the total score is observed. Use a simulation to find the estimated probability that the total score is even or greater than 7.  A simulation is a repetition of the same experiment multiple times to observe its behavior:\n",
    "\n",
    "- Run the experiment 1000 times (roll 2 dice 1000 times, and sum the number of both dices).\n",
    "- Keep track of the number of times that the sum was either greater than 7 or an even number.\n",
    "- Divide the number from step 2 by the number of iterations (1000)."
   ]
  },
  {
   "cell_type": "code",
   "execution_count": 33,
   "id": "8939d892",
   "metadata": {},
   "outputs": [
    {
     "name": "stdout",
     "output_type": "stream",
     "text": [
      "0.654\n"
     ]
    }
   ],
   "source": [
    "import numpy as np\n",
    "import pandas as pd\n",
    "dice1 = np.random.randint(1,7, 1000)\n",
    "dice2 = np.random.randint(1,7,1000)\n",
    "\n",
    "sum_numbers = dice1 + dice2\n",
    "sum = 0\n",
    "for i in sum_numbers:\n",
    "    if (i % 2 == 0) or (i >7):\n",
    "        sum +=1\n",
    "\n",
    "probability = sum/1000\n",
    "print(probability)"
   ]
  },
  {
   "cell_type": "markdown",
   "id": "55732bca",
   "metadata": {},
   "source": [
    "## Exercise 2\n",
    "\n",
    "A box contains 10 white balls, 20 red balls and 30 green balls. If we take 5 balls from the box with replacement (we take the ball, observe what color it is and put it back into the box). We want to know the probability of:\n",
    "\n",
    "1. Take 3 white and 2 red.\n",
    "2. Take all of the same color.\n",
    "\n",
    "Run the experiment 1000 times and calculate the above probabilities."
   ]
  },
  {
   "cell_type": "code",
   "execution_count": 2,
   "id": "23244d20",
   "metadata": {},
   "outputs": [
    {
     "name": "stdout",
     "output_type": "stream",
     "text": [
      "{0: 'White', 1: 'White', 2: 'White', 3: 'White', 4: 'White', 5: 'White', 6: 'White', 7: 'White', 8: 'White', 9: 'White', 10: 'Red', 11: 'Red', 12: 'Red', 13: 'Red', 14: 'Red', 15: 'Red', 16: 'Red', 17: 'Red', 18: 'Red', 19: 'Red', 20: 'Red', 21: 'Red', 22: 'Red', 23: 'Red', 24: 'Red', 25: 'Red', 26: 'Red', 27: 'Red', 28: 'Red', 29: 'Red', 30: 'Green', 31: 'Green', 32: 'Green', 33: 'Green', 34: 'Green', 35: 'Green', 36: 'Green', 37: 'Green', 38: 'Green', 39: 'Green', 40: 'Green', 41: 'Green', 42: 'Green', 43: 'Green', 44: 'Green', 45: 'Green', 46: 'Green', 47: 'Green', 48: 'Green', 49: 'Green', 50: 'Green', 51: 'Green', 52: 'Green', 53: 'Green', 54: 'Green', 55: 'Green', 56: 'Green', 57: 'Green', 58: 'Green', 59: 'Green'}\n",
      "The total possibility of 3 white balls and 2 red ball is :9 times or 0.09 % \n",
      "The possibility to have all the 5 balls with same color is :32 times or 0.32 % \n",
      "1\n"
     ]
    }
   ],
   "source": [
    "import numpy as np\n",
    "ball_box = {}\n",
    "\n",
    "# Create the box of balls\n",
    "for i in range(60):\n",
    "    if i < 10:\n",
    "        ball_box[i] = \"White\"\n",
    "    elif (i > 9) and (i < 30):\n",
    "        ball_box[i] = \"Red\"\n",
    "    else:\n",
    "        ball_box[i] = \"Green\"\n",
    "\n",
    "print(ball_box)\n",
    "\n",
    "i=0\n",
    "n = 0\n",
    "\n",
    "number_possib_white = 0\n",
    "number_possib_red = 0\n",
    "number_possib_green = 0\n",
    "total_possib_1 = 0\n",
    "total_possib_2 = 0\n",
    "\n",
    "for i  in range(1000):\n",
    "    sorted_five_numbers = np.random.randint(0, 60 , 5)\n",
    "    \n",
    "\n",
    "    number_possib_white = np.sum([1 for i in sorted_five_numbers if ball_box[i] ==\"White\"])\n",
    "    number_possib_red = np.sum([1 for i in sorted_five_numbers if ball_box[i] == \"Red\"])\n",
    "    if number_possib_white == 3 and number_possib_red == 2:\n",
    "        total_possib_1 +=1\n",
    "    number_possib_green = np.sum([1 for i in sorted_five_numbers if ball_box[i] == \"Green\"])\n",
    "    if (number_possib_green == 5) or (number_possib_red ==5) or (number_possib_white ==5):\n",
    "        total_possib_2 +=1\n",
    "        \n",
    "print(f\"The total possibility of 3 white balls and 2 red ball is :{total_possib_1} times or {total_possib_1/100} % \")\n",
    "print(f\"The possibility to have all the 5 balls with same color is :{total_possib_2} times or {total_possib_2/100} % \")\n",
    "print(number_possib_green)\n",
    "\n",
    "\n",
    "\n",
    "\n",
    "\n",
    "\n"
   ]
  }
 ],
 "metadata": {
  "kernelspec": {
   "display_name": "Python 3",
   "language": "python",
   "name": "python3"
  },
  "language_info": {
   "codemirror_mode": {
    "name": "ipython",
    "version": 3
   },
   "file_extension": ".py",
   "mimetype": "text/x-python",
   "name": "python",
   "nbconvert_exporter": "python",
   "pygments_lexer": "ipython3",
   "version": "3.11.4"
  }
 },
 "nbformat": 4,
 "nbformat_minor": 5
}
